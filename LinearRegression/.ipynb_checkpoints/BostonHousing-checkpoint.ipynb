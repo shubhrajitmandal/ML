{
 "cells": [
  {
   "cell_type": "code",
   "execution_count": 1,
   "metadata": {},
   "outputs": [],
   "source": [
    "import numpy as np\n",
    "import pandas as pd"
   ]
  },
  {
   "cell_type": "code",
   "execution_count": 2,
   "metadata": {},
   "outputs": [],
   "source": [
    "import matplotlib.pyplot as plt\n",
    "import seaborn as sns\n",
    "%matplotlib inline"
   ]
  },
  {
   "cell_type": "code",
   "execution_count": 3,
   "metadata": {},
   "outputs": [],
   "source": [
    "from sklearn.datasets import load_boston"
   ]
  },
  {
   "cell_type": "code",
   "execution_count": 4,
   "metadata": {},
   "outputs": [],
   "source": [
    "boston = load_boston()"
   ]
  },
  {
   "cell_type": "code",
   "execution_count": 5,
   "metadata": {},
   "outputs": [
    {
     "data": {
      "text/plain": [
       "dict_keys(['data', 'target', 'feature_names', 'DESCR', 'filename'])"
      ]
     },
     "execution_count": 5,
     "metadata": {},
     "output_type": "execute_result"
    }
   ],
   "source": [
    "boston.keys()"
   ]
  },
  {
   "cell_type": "code",
   "execution_count": 6,
   "metadata": {},
   "outputs": [
    {
     "name": "stdout",
     "output_type": "stream",
     "text": [
      ".. _boston_dataset:\n",
      "\n",
      "Boston house prices dataset\n",
      "---------------------------\n",
      "\n",
      "**Data Set Characteristics:**  \n",
      "\n",
      "    :Number of Instances: 506 \n",
      "\n",
      "    :Number of Attributes: 13 numeric/categorical predictive. Median Value (attribute 14) is usually the target.\n",
      "\n",
      "    :Attribute Information (in order):\n",
      "        - CRIM     per capita crime rate by town\n",
      "        - ZN       proportion of residential land zoned for lots over 25,000 sq.ft.\n",
      "        - INDUS    proportion of non-retail business acres per town\n",
      "        - CHAS     Charles River dummy variable (= 1 if tract bounds river; 0 otherwise)\n",
      "        - NOX      nitric oxides concentration (parts per 10 million)\n",
      "        - RM       average number of rooms per dwelling\n",
      "        - AGE      proportion of owner-occupied units built prior to 1940\n",
      "        - DIS      weighted distances to five Boston employment centres\n",
      "        - RAD      index of accessibility to radial highways\n",
      "        - TAX      full-value property-tax rate per $10,000\n",
      "        - PTRATIO  pupil-teacher ratio by town\n",
      "        - B        1000(Bk - 0.63)^2 where Bk is the proportion of blacks by town\n",
      "        - LSTAT    % lower status of the population\n",
      "        - MEDV     Median value of owner-occupied homes in $1000's\n",
      "\n",
      "    :Missing Attribute Values: None\n",
      "\n",
      "    :Creator: Harrison, D. and Rubinfeld, D.L.\n",
      "\n",
      "This is a copy of UCI ML housing dataset.\n",
      "https://archive.ics.uci.edu/ml/machine-learning-databases/housing/\n",
      "\n",
      "\n",
      "This dataset was taken from the StatLib library which is maintained at Carnegie Mellon University.\n",
      "\n",
      "The Boston house-price data of Harrison, D. and Rubinfeld, D.L. 'Hedonic\n",
      "prices and the demand for clean air', J. Environ. Economics & Management,\n",
      "vol.5, 81-102, 1978.   Used in Belsley, Kuh & Welsch, 'Regression diagnostics\n",
      "...', Wiley, 1980.   N.B. Various transformations are used in the table on\n",
      "pages 244-261 of the latter.\n",
      "\n",
      "The Boston house-price data has been used in many machine learning papers that address regression\n",
      "problems.   \n",
      "     \n",
      ".. topic:: References\n",
      "\n",
      "   - Belsley, Kuh & Welsch, 'Regression diagnostics: Identifying Influential Data and Sources of Collinearity', Wiley, 1980. 244-261.\n",
      "   - Quinlan,R. (1993). Combining Instance-Based and Model-Based Learning. In Proceedings on the Tenth International Conference of Machine Learning, 236-243, University of Massachusetts, Amherst. Morgan Kaufmann.\n",
      "\n"
     ]
    }
   ],
   "source": [
    "print(boston[\"DESCR\"])"
   ]
  },
  {
   "cell_type": "code",
   "execution_count": 35,
   "metadata": {},
   "outputs": [],
   "source": [
    "d = {\n",
    "        \"CRIM \": \"per capita crime rate by town\",\n",
    "        \"ZN\":       \"proportion of residential land zoned for lots over 25,000 sq.ft.\",\n",
    "        \"INDUS\":    \"proportion of non-retail business acres per town\",\n",
    "        \"CHAS\":     \"Charles River dummy variable (= 1 if tract bounds river; 0 otherwise)\",\n",
    "        \"NOX\":      \"nitric oxides concentration (parts per 10 million)\",\n",
    "        \"RM\":      \"average number of rooms per dwelling\",\n",
    "        \"AGE\":      \"proportion of owner-occupied units built prior to 1940\",\n",
    "        \"DIS\":      \"weighted distances to five Boston employment centres\",\n",
    "        \"RAD\":     \"index of accessibility to radial highways\",\n",
    "        \"TAX\":      \"full-value property-tax rate per $10,000\",\n",
    "        \"PTRATIO\":  \"pupil-teacher ratio by town\",\n",
    "        \"B\":       \"1000(Bk - 0.63)^2 where Bk is the proportion of blacks by town\",\n",
    "        \"LSTAT\":   \"% lower status of the population\",\n",
    "        \"MEDV\":     \"Median value of owner-occupied homes in $1000's\"\n",
    "}"
   ]
  },
  {
   "cell_type": "code",
   "execution_count": 22,
   "metadata": {},
   "outputs": [],
   "source": [
    "df = pd.DataFrame(boston['data'], columns=boston['feature_names'])"
   ]
  },
  {
   "cell_type": "code",
   "execution_count": 45,
   "metadata": {},
   "outputs": [],
   "source": [
    "schemadf = pd.DataFrame(d.values(), index = d.keys(), columns = ['Values'])"
   ]
  },
  {
   "cell_type": "code",
   "execution_count": 46,
   "metadata": {},
   "outputs": [
    {
     "data": {
      "text/html": [
       "<div>\n",
       "<style scoped>\n",
       "    .dataframe tbody tr th:only-of-type {\n",
       "        vertical-align: middle;\n",
       "    }\n",
       "\n",
       "    .dataframe tbody tr th {\n",
       "        vertical-align: top;\n",
       "    }\n",
       "\n",
       "    .dataframe thead th {\n",
       "        text-align: right;\n",
       "    }\n",
       "</style>\n",
       "<table border=\"1\" class=\"dataframe\">\n",
       "  <thead>\n",
       "    <tr style=\"text-align: right;\">\n",
       "      <th></th>\n",
       "      <th>CRIM</th>\n",
       "      <th>ZN</th>\n",
       "      <th>INDUS</th>\n",
       "      <th>CHAS</th>\n",
       "      <th>NOX</th>\n",
       "      <th>RM</th>\n",
       "      <th>AGE</th>\n",
       "      <th>DIS</th>\n",
       "      <th>RAD</th>\n",
       "      <th>TAX</th>\n",
       "      <th>PTRATIO</th>\n",
       "      <th>B</th>\n",
       "      <th>LSTAT</th>\n",
       "    </tr>\n",
       "  </thead>\n",
       "  <tbody>\n",
       "    <tr>\n",
       "      <th>0</th>\n",
       "      <td>0.00632</td>\n",
       "      <td>18.0</td>\n",
       "      <td>2.31</td>\n",
       "      <td>0.0</td>\n",
       "      <td>0.538</td>\n",
       "      <td>6.575</td>\n",
       "      <td>65.2</td>\n",
       "      <td>4.0900</td>\n",
       "      <td>1.0</td>\n",
       "      <td>296.0</td>\n",
       "      <td>15.3</td>\n",
       "      <td>396.90</td>\n",
       "      <td>4.98</td>\n",
       "    </tr>\n",
       "    <tr>\n",
       "      <th>1</th>\n",
       "      <td>0.02731</td>\n",
       "      <td>0.0</td>\n",
       "      <td>7.07</td>\n",
       "      <td>0.0</td>\n",
       "      <td>0.469</td>\n",
       "      <td>6.421</td>\n",
       "      <td>78.9</td>\n",
       "      <td>4.9671</td>\n",
       "      <td>2.0</td>\n",
       "      <td>242.0</td>\n",
       "      <td>17.8</td>\n",
       "      <td>396.90</td>\n",
       "      <td>9.14</td>\n",
       "    </tr>\n",
       "    <tr>\n",
       "      <th>2</th>\n",
       "      <td>0.02729</td>\n",
       "      <td>0.0</td>\n",
       "      <td>7.07</td>\n",
       "      <td>0.0</td>\n",
       "      <td>0.469</td>\n",
       "      <td>7.185</td>\n",
       "      <td>61.1</td>\n",
       "      <td>4.9671</td>\n",
       "      <td>2.0</td>\n",
       "      <td>242.0</td>\n",
       "      <td>17.8</td>\n",
       "      <td>392.83</td>\n",
       "      <td>4.03</td>\n",
       "    </tr>\n",
       "    <tr>\n",
       "      <th>3</th>\n",
       "      <td>0.03237</td>\n",
       "      <td>0.0</td>\n",
       "      <td>2.18</td>\n",
       "      <td>0.0</td>\n",
       "      <td>0.458</td>\n",
       "      <td>6.998</td>\n",
       "      <td>45.8</td>\n",
       "      <td>6.0622</td>\n",
       "      <td>3.0</td>\n",
       "      <td>222.0</td>\n",
       "      <td>18.7</td>\n",
       "      <td>394.63</td>\n",
       "      <td>2.94</td>\n",
       "    </tr>\n",
       "    <tr>\n",
       "      <th>4</th>\n",
       "      <td>0.06905</td>\n",
       "      <td>0.0</td>\n",
       "      <td>2.18</td>\n",
       "      <td>0.0</td>\n",
       "      <td>0.458</td>\n",
       "      <td>7.147</td>\n",
       "      <td>54.2</td>\n",
       "      <td>6.0622</td>\n",
       "      <td>3.0</td>\n",
       "      <td>222.0</td>\n",
       "      <td>18.7</td>\n",
       "      <td>396.90</td>\n",
       "      <td>5.33</td>\n",
       "    </tr>\n",
       "  </tbody>\n",
       "</table>\n",
       "</div>"
      ],
      "text/plain": [
       "      CRIM    ZN  INDUS  CHAS    NOX     RM   AGE     DIS  RAD    TAX  \\\n",
       "0  0.00632  18.0   2.31   0.0  0.538  6.575  65.2  4.0900  1.0  296.0   \n",
       "1  0.02731   0.0   7.07   0.0  0.469  6.421  78.9  4.9671  2.0  242.0   \n",
       "2  0.02729   0.0   7.07   0.0  0.469  7.185  61.1  4.9671  2.0  242.0   \n",
       "3  0.03237   0.0   2.18   0.0  0.458  6.998  45.8  6.0622  3.0  222.0   \n",
       "4  0.06905   0.0   2.18   0.0  0.458  7.147  54.2  6.0622  3.0  222.0   \n",
       "\n",
       "   PTRATIO       B  LSTAT  \n",
       "0     15.3  396.90   4.98  \n",
       "1     17.8  396.90   9.14  \n",
       "2     17.8  392.83   4.03  \n",
       "3     18.7  394.63   2.94  \n",
       "4     18.7  396.90   5.33  "
      ]
     },
     "execution_count": 46,
     "metadata": {},
     "output_type": "execute_result"
    }
   ],
   "source": [
    "df.head()"
   ]
  },
  {
   "cell_type": "code",
   "execution_count": 47,
   "metadata": {},
   "outputs": [
    {
     "data": {
      "text/plain": [
       "(506, 13)"
      ]
     },
     "execution_count": 47,
     "metadata": {},
     "output_type": "execute_result"
    }
   ],
   "source": [
    "df.shape"
   ]
  },
  {
   "cell_type": "code",
   "execution_count": 48,
   "metadata": {},
   "outputs": [
    {
     "data": {
      "image/png": "[encoded data removed]",
      "text/plain": [
       "<Figure size 432x288 with 1 Axes>"
      ]
     },
     "metadata": {
      "needs_background": "light"
     },
     "output_type": "display_data"
    }
   ],
   "source": [
    "sns.distplot(df['AGE'])\n",
    "plt.tight_layout()"
   ]
  },
  {
   "cell_type": "code",
   "execution_count": 11,
   "metadata": {},
   "outputs": [],
   "source": [
    "from sklearn.model_selection import train_test_split"
   ]
  },
  {
   "cell_type": "code",
   "execution_count": 12,
   "metadata": {},
   "outputs": [],
   "source": [
    "X_train, X_test, y_train, y_test = train_test_split(df, boston['target'], test_size=0.33)"
   ]
  },
  {
   "cell_type": "code",
   "execution_count": 13,
   "metadata": {},
   "outputs": [],
   "source": [
    "from sklearn.linear_model import LinearRegression"
   ]
  },
  {
   "cell_type": "code",
   "execution_count": 14,
   "metadata": {},
   "outputs": [],
   "source": [
    "reg = LinearRegression()"
   ]
  },
  {
   "cell_type": "code",
   "execution_count": 15,
   "metadata": {},
   "outputs": [
    {
     "data": {
      "text/plain": [
       "LinearRegression(copy_X=True, fit_intercept=True, n_jobs=None, normalize=False)"
      ]
     },
     "execution_count": 15,
     "metadata": {},
     "output_type": "execute_result"
    }
   ],
   "source": [
    "reg.fit(X_train, y_train)"
   ]
  },
  {
   "cell_type": "code",
   "execution_count": 16,
   "metadata": {},
   "outputs": [
    {
     "data": {
      "text/plain": [
       "array([-1.20236844e-01,  6.38726581e-02,  8.96088955e-02,  1.83176710e+00,\n",
       "       -2.54265831e+01,  2.90942026e+00,  1.88647880e-02, -1.54787215e+00,\n",
       "        3.27032724e-01, -1.51885949e-02, -9.54883230e-01,  8.59081493e-03,\n",
       "       -5.22059397e-01])"
      ]
     },
     "execution_count": 16,
     "metadata": {},
     "output_type": "execute_result"
    }
   ],
   "source": [
    "reg.coef_"
   ]
  },
  {
   "cell_type": "code",
   "execution_count": 21,
   "metadata": {},
   "outputs": [
    {
     "data": {
      "text/html": [
       "<div>\n",
       "<style scoped>\n",
       "    .dataframe tbody tr th:only-of-type {\n",
       "        vertical-align: middle;\n",
       "    }\n",
       "\n",
       "    .dataframe tbody tr th {\n",
       "        vertical-align: top;\n",
       "    }\n",
       "\n",
       "    .dataframe thead th {\n",
       "        text-align: right;\n",
       "    }\n",
       "</style>\n",
       "<table border=\"1\" class=\"dataframe\">\n",
       "  <thead>\n",
       "    <tr style=\"text-align: right;\">\n",
       "      <th></th>\n",
       "      <th>Coeff</th>\n",
       "    </tr>\n",
       "  </thead>\n",
       "  <tbody>\n",
       "    <tr>\n",
       "      <th>CRIM</th>\n",
       "      <td>-0.120237</td>\n",
       "    </tr>\n",
       "    <tr>\n",
       "      <th>ZN</th>\n",
       "      <td>0.063873</td>\n",
       "    </tr>\n",
       "    <tr>\n",
       "      <th>INDUS</th>\n",
       "      <td>0.089609</td>\n",
       "    </tr>\n",
       "    <tr>\n",
       "      <th>CHAS</th>\n",
       "      <td>1.831767</td>\n",
       "    </tr>\n",
       "    <tr>\n",
       "      <th>NOX</th>\n",
       "      <td>-25.426583</td>\n",
       "    </tr>\n",
       "    <tr>\n",
       "      <th>RM</th>\n",
       "      <td>2.909420</td>\n",
       "    </tr>\n",
       "    <tr>\n",
       "      <th>AGE</th>\n",
       "      <td>0.018865</td>\n",
       "    </tr>\n",
       "    <tr>\n",
       "      <th>DIS</th>\n",
       "      <td>-1.547872</td>\n",
       "    </tr>\n",
       "    <tr>\n",
       "      <th>RAD</th>\n",
       "      <td>0.327033</td>\n",
       "    </tr>\n",
       "    <tr>\n",
       "      <th>TAX</th>\n",
       "      <td>-0.015189</td>\n",
       "    </tr>\n",
       "    <tr>\n",
       "      <th>PTRATIO</th>\n",
       "      <td>-0.954883</td>\n",
       "    </tr>\n",
       "    <tr>\n",
       "      <th>B</th>\n",
       "      <td>0.008591</td>\n",
       "    </tr>\n",
       "    <tr>\n",
       "      <th>LSTAT</th>\n",
       "      <td>-0.522059</td>\n",
       "    </tr>\n",
       "  </tbody>\n",
       "</table>\n",
       "</div>"
      ],
      "text/plain": [
       "             Coeff\n",
       "CRIM     -0.120237\n",
       "ZN        0.063873\n",
       "INDUS     0.089609\n",
       "CHAS      1.831767\n",
       "NOX     -25.426583\n",
       "RM        2.909420\n",
       "AGE       0.018865\n",
       "DIS      -1.547872\n",
       "RAD       0.327033\n",
       "TAX      -0.015189\n",
       "PTRATIO  -0.954883\n",
       "B         0.008591\n",
       "LSTAT    -0.522059"
      ]
     },
     "execution_count": 21,
     "metadata": {},
     "output_type": "execute_result"
    }
   ],
   "source": [
    "cdf = pd.DataFrame(reg.coef_, index = boston['feature_names'], columns = ['Coeff'])\n",
    "cdf"
   ]
  },
  {
   "cell_type": "code",
   "execution_count": 43,
   "metadata": {},
   "outputs": [
    {
     "data": {
      "text/html": [
       "<div>\n",
       "<style scoped>\n",
       "    .dataframe tbody tr th:only-of-type {\n",
       "        vertical-align: middle;\n",
       "    }\n",
       "\n",
       "    .dataframe tbody tr th {\n",
       "        vertical-align: top;\n",
       "    }\n",
       "\n",
       "    .dataframe thead th {\n",
       "        text-align: right;\n",
       "    }\n",
       "</style>\n",
       "<table border=\"1\" class=\"dataframe\">\n",
       "  <thead>\n",
       "    <tr style=\"text-align: right;\">\n",
       "      <th></th>\n",
       "      <th>Values</th>\n",
       "    </tr>\n",
       "  </thead>\n",
       "  <tbody>\n",
       "    <tr>\n",
       "      <th>CRIM</th>\n",
       "      <td>per capita crime rate by town</td>\n",
       "    </tr>\n",
       "    <tr>\n",
       "      <th>ZN</th>\n",
       "      <td>proportion of residential land zoned for lots ...</td>\n",
       "    </tr>\n",
       "    <tr>\n",
       "      <th>INDUS</th>\n",
       "      <td>proportion of non-retail business acres per town</td>\n",
       "    </tr>\n",
       "    <tr>\n",
       "      <th>CHAS</th>\n",
       "      <td>Charles River dummy variable (= 1 if tract bou...</td>\n",
       "    </tr>\n",
       "    <tr>\n",
       "      <th>NOX</th>\n",
       "      <td>nitric oxides concentration (parts per 10 mill...</td>\n",
       "    </tr>\n",
       "    <tr>\n",
       "      <th>RM</th>\n",
       "      <td>average number of rooms per dwelling</td>\n",
       "    </tr>\n",
       "    <tr>\n",
       "      <th>AGE</th>\n",
       "      <td>proportion of owner-occupied units built prior...</td>\n",
       "    </tr>\n",
       "    <tr>\n",
       "      <th>DIS</th>\n",
       "      <td>weighted distances to five Boston employment c...</td>\n",
       "    </tr>\n",
       "    <tr>\n",
       "      <th>RAD</th>\n",
       "      <td>index of accessibility to radial highways</td>\n",
       "    </tr>\n",
       "    <tr>\n",
       "      <th>TAX</th>\n",
       "      <td>full-value property-tax rate per $10,000</td>\n",
       "    </tr>\n",
       "    <tr>\n",
       "      <th>PTRATIO</th>\n",
       "      <td>pupil-teacher ratio by town</td>\n",
       "    </tr>\n",
       "    <tr>\n",
       "      <th>B</th>\n",
       "      <td>1000(Bk - 0.63)^2 where Bk is the proportion o...</td>\n",
       "    </tr>\n",
       "    <tr>\n",
       "      <th>LSTAT</th>\n",
       "      <td>% lower status of the population</td>\n",
       "    </tr>\n",
       "    <tr>\n",
       "      <th>MEDV</th>\n",
       "      <td>Median value of owner-occupied homes in $1000's</td>\n",
       "    </tr>\n",
       "  </tbody>\n",
       "</table>\n",
       "</div>"
      ],
      "text/plain": [
       "                                                    Values\n",
       "CRIM                         per capita crime rate by town\n",
       "ZN       proportion of residential land zoned for lots ...\n",
       "INDUS     proportion of non-retail business acres per town\n",
       "CHAS     Charles River dummy variable (= 1 if tract bou...\n",
       "NOX      nitric oxides concentration (parts per 10 mill...\n",
       "RM                    average number of rooms per dwelling\n",
       "AGE      proportion of owner-occupied units built prior...\n",
       "DIS      weighted distances to five Boston employment c...\n",
       "RAD              index of accessibility to radial highways\n",
       "TAX               full-value property-tax rate per $10,000\n",
       "PTRATIO                        pupil-teacher ratio by town\n",
       "B        1000(Bk - 0.63)^2 where Bk is the proportion o...\n",
       "LSTAT                     % lower status of the population\n",
       "MEDV       Median value of owner-occupied homes in $1000's"
      ]
     },
     "execution_count": 43,
     "metadata": {},
     "output_type": "execute_result"
    }
   ],
   "source": [
    "schemadf"
   ]
  },
  {
   "cell_type": "code",
   "execution_count": 51,
   "metadata": {},
   "outputs": [],
   "source": [
    "pred = reg.predict(X_test)"
   ]
  },
  {
   "cell_type": "code",
   "execution_count": 57,
   "metadata": {
    "scrolled": true
   },
   "outputs": [
    {
     "name": "stdout",
     "output_type": "stream",
     "text": [
      "15.3 18.977728258830624\n",
      "19.5 20.280427887427507\n",
      "13.4 13.526427449626837\n",
      "21.2 21.850527428457895\n",
      "30.8 32.054885151176094\n",
      "13.3 16.64326941917418\n",
      "45.4 38.327422995667376\n",
      "30.3 33.02136696340803\n",
      "18.4 18.00943237160184\n",
      "22.2 19.35380760392847\n",
      "21.2 21.605554397880947\n",
      "22.0 27.544211726137423\n",
      "18.7 19.133512325602496\n",
      "25.0 26.23404359318871\n",
      "25.1 29.26809631512048\n",
      "46.7 33.52267260869807\n",
      "21.5 19.694982092869544\n",
      "25.0 21.294165184861132\n",
      "20.1 22.02811535825092\n",
      "16.4 17.977014331791686\n",
      "24.3 30.01031077082108\n",
      "17.8 18.335994414075362\n",
      "19.7 14.571764135822509\n",
      "21.4 24.464885162966546\n",
      "11.8 11.14652025468861\n",
      "23.9 27.91046064583521\n",
      "29.8 24.51443910829829\n",
      "13.3 19.498288912057127\n",
      "18.3 19.23597572178825\n",
      "18.4 19.806858103688594\n",
      "15.6 16.455627854709512\n",
      "26.5 25.248912524225013\n",
      "20.9 21.28004601583452\n",
      "20.5 22.652323160759046\n",
      "24.8 27.447453855158358\n",
      "20.1 24.911908947148795\n",
      "24.8 31.34315593862691\n",
      "16.6 19.28441287397585\n",
      "20.3 23.049267732538656\n",
      "28.7 30.17412573019577\n",
      "8.8 5.589083871072333\n",
      "22.6 17.97485173533441\n",
      "13.5 12.44561775664058\n",
      "42.8 27.7529754977677\n",
      "20.1 16.284707041588824\n",
      "22.0 23.64195782434177\n",
      "14.8 15.338337392685048\n",
      "17.1 20.78874385636652\n",
      "27.5 19.743334573089435\n",
      "19.4 23.768510146944244\n",
      "34.9 34.41065418463965\n",
      "38.7 34.73989061050974\n",
      "31.2 28.023777580331718\n",
      "17.2 14.679229009796835\n",
      "19.9 17.80786244382343\n",
      "12.7 17.69393739728436\n",
      "26.7 32.37522353545256\n",
      "24.7 25.69378183832984\n",
      "21.7 22.92954634480204\n",
      "31.5 30.396971802339998\n",
      "13.9 17.000732723352954\n",
      "22.7 25.73598028207485\n",
      "34.7 30.150533833098667\n",
      "29.4 29.897427838832236\n",
      "37.9 33.92426147454347\n",
      "36.1 32.83382866792988\n",
      "20.3 24.35007333112955\n",
      "35.4 31.476687057386947\n",
      "5.0 6.544899955017463\n",
      "22.0 26.189675890354245\n",
      "19.6 23.592376294471183\n",
      "32.2 32.05254313045343\n",
      "27.1 27.90144406145304\n",
      "29.0 31.659546889198822\n",
      "15.2 16.39960678199475\n",
      "15.4 17.050335175244783\n",
      "29.9 31.098604963761467\n",
      "24.1 30.502504020365425\n",
      "27.5 24.45046204947145\n",
      "20.7 21.044109500198346\n",
      "13.5 14.531935893798476\n",
      "24.4 29.17012937064726\n",
      "23.2 16.71858706087684\n",
      "20.0 22.933416425084197\n",
      "20.6 28.910758972884985\n",
      "18.5 20.408935494796335\n",
      "14.6 8.449922075703405\n",
      "20.7 26.137885444884134\n",
      "23.8 23.912327023194848\n",
      "14.3 16.282474506602064\n",
      "28.5 34.41573254969112\n",
      "37.2 32.49176117959617\n",
      "21.2 23.303859475545234\n",
      "23.1 24.85913506916184\n",
      "19.4 27.180889121463764\n",
      "50.0 39.717750145731955\n",
      "42.3 36.55776628092497\n",
      "22.0 29.321630709324648\n",
      "12.0 12.486110931651965\n",
      "28.7 28.809149119022422\n",
      "11.9 22.933051639633547\n",
      "19.2 24.034096002972035\n",
      "21.6 25.6307686726446\n",
      "28.6 28.511759414025754\n",
      "26.6 27.067616636180556\n",
      "33.2 34.89437846329743\n",
      "11.8 8.720920787827353\n",
      "20.0 23.946851911324668\n",
      "23.8 27.101255972237603\n",
      "20.8 23.945237015313058\n",
      "13.1 13.375203234785758\n",
      "16.7 18.860108848796106\n",
      "15.2 18.472990636870918\n",
      "19.3 20.61847748284764\n",
      "24.3 25.010295809431103\n",
      "13.1 15.347740923370406\n",
      "19.2 20.497643009331135\n",
      "41.3 33.38396434358191\n",
      "8.7 8.344447424660466\n",
      "19.1 25.351124291263787\n",
      "31.6 32.10016889801259\n",
      "18.8 21.445785836916823\n",
      "21.0 21.401698840134024\n",
      "24.1 20.499138166624707\n",
      "29.1 32.01848969229318\n",
      "14.1 18.678196078249375\n",
      "37.3 35.12161836208882\n",
      "24.7 22.777182065494586\n",
      "36.0 35.65353105827933\n",
      "19.8 23.09145017875218\n",
      "8.5 7.028475048979686\n",
      "50.0 39.05435942345228\n",
      "15.6 14.424789480435763\n",
      "50.0 25.131206278593677\n",
      "18.6 20.290652546486953\n",
      "48.8 39.0113853302291\n",
      "18.8 22.78635871747668\n",
      "13.8 19.713469924567885\n",
      "14.1 16.941041553310747\n",
      "43.1 35.95397790892646\n",
      "35.1 35.19717859738701\n",
      "16.2 16.316640650854715\n",
      "25.0 28.12802136435512\n",
      "20.3 20.881525789923746\n",
      "23.1 24.30671783247064\n",
      "15.7 17.133398870888303\n",
      "22.8 28.706192352425205\n",
      "14.0 14.266648449005594\n",
      "24.7 24.225718429746554\n",
      "14.9 16.298667969651333\n",
      "10.5 12.025676380665772\n",
      "22.6 22.85165780620042\n",
      "50.0 31.443817444845653\n",
      "21.4 21.76723044647555\n",
      "27.9 20.431531599880202\n",
      "19.4 24.097323780972992\n",
      "19.4 16.61418185506752\n",
      "36.2 27.178914974797213\n",
      "50.0 40.99531276843702\n",
      "23.9 27.567998781381423\n",
      "19.4 20.330559401477334\n",
      "19.6 17.87714393991379\n",
      "34.6 34.90479419140982\n",
      "22.0 27.59088597225985\n",
      "13.1 15.259960241391557\n",
      "12.3 13.292839589446046\n",
      "26.4 28.952338886626848\n"
     ]
    }
   ],
   "source": [
    "for x, y in zip(y_test, pred):\n",
    "    print(x, y)"
   ]
  },
  {
   "cell_type": "code",
   "execution_count": 55,
   "metadata": {},
   "outputs": [
    {
     "data": {
      "text/plain": [
       "<matplotlib.collections.PathCollection at 0x7f52412e5190>"
      ]
     },
     "execution_count": 55,
     "metadata": {},
     "output_type": "execute_result"
    },
    {
     "data": {
      "image/png": "[encoded data removed]",
      "text/plain": [
       "<Figure size 432x288 with 1 Axes>"
      ]
     },
     "metadata": {
      "needs_background": "light"
     },
     "output_type": "display_data"
    }
   ],
   "source": [
    "plt.scatter(y_test, pred)"
   ]
  },
  {
   "cell_type": "code",
   "execution_count": 60,
   "metadata": {},
   "outputs": [],
   "source": [
    "from sklearn import metrics"
   ]
  },
  {
   "cell_type": "code",
   "execution_count": 62,
   "metadata": {},
   "outputs": [
    {
     "data": {
      "text/plain": [
       "3.3895680162888127"
      ]
     },
     "execution_count": 62,
     "metadata": {},
     "output_type": "execute_result"
    }
   ],
   "source": [
    "mae = metrics.mean_absolute_error(y_test, pred)\n",
    "mae"
   ]
  },
  {
   "cell_type": "code",
   "execution_count": 64,
   "metadata": {},
   "outputs": [
    {
     "data": {
      "text/plain": [
       "23.084675339397428"
      ]
     },
     "execution_count": 64,
     "metadata": {},
     "output_type": "execute_result"
    }
   ],
   "source": [
    "mse = metrics.mean_squared_error(y_test, pred)\n",
    "mse"
   ]
  },
  {
   "cell_type": "markdown",
   "metadata": {},
   "source": [
    "rmse = np.sqrt(mse)"
   ]
  },
  {
   "cell_type": "code",
   "execution_count": null,
   "metadata": {},
   "outputs": [],
   "source": []
  }
 ],
 "metadata": {
  "kernelspec": {
   "display_name": "Python 3",
   "language": "python",
   "name": "python3"
  },
  "language_info": {
   "codemirror_mode": {
    "name": "ipython",
    "version": 3
   },
   "file_extension": ".py",
   "mimetype": "text/x-python",
   "name": "python",
   "nbconvert_exporter": "python",
   "pygments_lexer": "ipython3",
   "version": "3.7.7"
  }
 },
 "nbformat": 4,
 "nbformat_minor": 4
}
